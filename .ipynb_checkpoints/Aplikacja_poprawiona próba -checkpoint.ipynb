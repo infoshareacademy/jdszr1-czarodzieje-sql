{
 "cells": [
  {
   "cell_type": "markdown",
   "metadata": {},
   "source": [
    "## Aplikacja określająca ryzyko niewypłacalności potencjalnego pożyczkobiorcy\n",
    "\n"
   ]
  },
  {
   "cell_type": "markdown",
   "metadata": {},
   "source": [
    "Aplikacja jest przeznaczona dla pracownika obsługi klienta indywidualnego banku i pomaga oszacować ryzyko jego niewypłacalności i podjąć decyzję o dalszych krokach.\n",
    "\n",
    "Instrukcja dla pracownika:\n",
    "1. Sprawdź dane osobowe klienta.\n",
    "2. Zbierz wymagane informacje i wprowadź je do systemu.\n",
    "3. Zapoznaj się z punktacją i wykresem.\n",
    "4. Przekaż informację o dalszych krokach klientowi. \n"
   ]
  },
  {
   "cell_type": "markdown",
   "metadata": {},
   "source": [
    "Podstawą ocen klienta jest punktacja. Może on otrzymać 0-13 punktów, przy czym im mniej, tym lepiej.\n",
    "\n",
    "Instrukcja dla pracownika:\n",
    "    <5 - natychmiastowa zgoda.\n",
    "    5-7 - do dalszej analizy.\n",
    "    8-9 - do dalszej analizy, po dostarczeniu dokumentów.\n",
    "    >9 - natychmiastowa odmowa. "
   ]
  },
  {
   "cell_type": "code",
   "execution_count": 9,
   "metadata": {},
   "outputs": [],
   "source": [
    "# Do przypisania 0 lub 2 pkt. 2 pkt w przypadku wieku poniżej 30 lub powyżej 50 lat. \n",
    "score_list = []\n",
    "def q1():\n",
    "    score_client = 0\n",
    "    while True:\n",
    "        try:\n",
    "            t = input(\"Wprowadź wiek klienta w latach: \")\n",
    "            years = int(t)            \n",
    "            if years in range (0,110):\n",
    "                if years <30 or years >60:\n",
    "                    score_client +=2\n",
    "                break\n",
    "            else:\n",
    "                print(\"Podaj prawidłową wartość\")\n",
    "        except ValueError:\n",
    "            print(\"Podaj prawidłową wartość\")            \n",
    "    score_list.append(score_client)    "
   ]
  },
  {
   "cell_type": "code",
   "execution_count": 10,
   "metadata": {},
   "outputs": [],
   "source": [
    "# Do przypisania 0 lub 1 pkt. 1 pkt w przypadku singla\n",
    "def q2():\n",
    "    score_client2 = 0\n",
    "    while True:\n",
    "        t1 = input(\"Wprowadź stan cywilny klienta: singiel, małżonek, wdowiec, w separacji: \")\n",
    "        list = (\"singiel\", \"małżonek\", \"wdowiec\", \"w separacji\")\n",
    "        if t1 in list:\n",
    "            if t1 == \"singiel\":\n",
    "                score_client2 +=1\n",
    "            break\n",
    "        else:\n",
    "            print(\"Podaj prawidłowy stan cywilny\")            \n",
    "    score_list.append(score_client2)"
   ]
  },
  {
   "cell_type": "code",
   "execution_count": 11,
   "metadata": {
    "scrolled": true
   },
   "outputs": [],
   "source": [
    "# Do przypisania 0 lub 2 pkt. 2 pkt w przypadku wykształcenia podstawowego \n",
    "def q3():\n",
    "    score_client3 = 0\n",
    "    while True:\n",
    "        t2 = input(\"Wprowadź poziom wykształcenia klienta: podstawowe, średnie, wyższe, niepełne wyższe: \")\n",
    "        list = (\"podstawowe\", \"średnie\", \"wyższe\", \"niepełne wyższe\")\n",
    "        if t2 in list:\n",
    "            if t2 == \"podstawowe\":\n",
    "                score_client3 +=2\n",
    "            break\n",
    "        else:\n",
    "            print(\"Podaj prawidłowy poziom wykształcena \")\n",
    "    score_list.append(score_client3)"
   ]
  },
  {
   "cell_type": "code",
   "execution_count": 12,
   "metadata": {},
   "outputs": [],
   "source": [
    "# Do przypisania 0 lub 2 pkt. 2 pkt w przypadku 3 członków rodziny.\n",
    "def q4():\n",
    "    score_client4 = 0\n",
    "    while True:\n",
    "        try:\n",
    "            t3 = input(\"Podaj ilość członków rodziny klienta: 0,1,2,3,..5 - w przypadku 5 lub więcej: \")\n",
    "            f_size = int(t3)\n",
    "            if f_size in range (0,10):\n",
    "                if f_size == 3:\n",
    "                    score_client4 +=2\n",
    "                break\n",
    "            else:\n",
    "                print(\"Podaj prawidłową wartość.\")\n",
    "        except ValueError:\n",
    "            print(\"Podaj prawidłową wartość\")            \n",
    "    score_list.append(score_client4)       "
   ]
  },
  {
   "cell_type": "code",
   "execution_count": null,
   "metadata": {},
   "outputs": [],
   "source": [
    "# Do przypisania 0 lub 3 pkt. 1 pkt w przypadku, gdy dochod wynosi mniej, niż kwota raty + koszty zobowiazan. \n",
    "def q5():\n",
    "    score_client5 = 0\n",
    "    while True:\n",
    "        try:\n",
    "            t4 = input(\"Podaj dochód klienta w liczbach całkowitych: \")\n",
    "            income = int(t4)\n",
    "            kwota_kredytu = input(\"Podaja sumę kredytu z odsetkami\")\n",
    "            ilosc_rat = input(\"Podaj ilosc rat\")\n",
    "            rata = int(kwota_kredytu) / int(ilosc_rat)*12\n",
    "            if float(income) <= 0.75*float(rata):\n",
    "                score_client5 +=3\n",
    "                break\n",
    "            else:\n",
    "                score_client5 += 0\n",
    "        except ValueError:\n",
    "            print(\"Podaj prawidłową wartość\")\n",
    "    score_list.append(score_client5)"
   ]
  },
  {
   "cell_type": "code",
   "execution_count": 15,
   "metadata": {},
   "outputs": [],
   "source": [
    "# Do przypisania 3 lub 3 pkt. 3 pkt w przypadku emeryta, 2 pkt. w przypadku działalności.  \n",
    "def q6 ():\n",
    "    score_client6 = 0\n",
    "    while True:\n",
    "        t5 = input(\"Podaj rodzaj dochodu klienta: UOP, działalność, emeryt, student, inne \")\n",
    "        list = (\"UOP\", \"działalność\", \"emeryt\", \"student\", \"inne\")\n",
    "        if t5 in list:\n",
    "            if t5 in list:\n",
    "                if t5 == \"emeryt\":\n",
    "                    score_client6 +=3\n",
    "                elif t5 == \"działalność\":\n",
    "                    score_client6 +=2\n",
    "            break\n",
    "        else:\n",
    "            print(\"Podaj prawidłowy rodzaj dochodu.\")\n",
    "    score_list.append(score_client6)"
   ]
  },
  {
   "cell_type": "markdown",
   "metadata": {},
   "source": [
    "Złożenie części składowych aplikacji"
   ]
  },
  {
   "cell_type": "code",
   "execution_count": null,
   "metadata": {},
   "outputs": [],
   "source": [
    "def fin():\n",
    "    dane = input (\"Podaj ID klienta: \")\n",
    "    q1()\n",
    "    q2()\n",
    "    q3()\n",
    "    q4()\n",
    "    q5()\n",
    "    q6()\n",
    "    score_fin = (sum(score_list))\n",
    "    if score_fin < 5:\n",
    "        decyzja = (\"Zgoda\")\n",
    "    if score_fin in range (5,8):\n",
    "        decyzja = (\"Do analizy\")\n",
    "    if score_fin in range (8,10):\n",
    "        decyzja = (\"Do analizy po dostarczeniu dokumentów\")\n",
    "    if score_fin > 10:\n",
    "        decyzja = (\"Odrzucono\")\n",
    "    print (str(dane) +\":\" + \" Wynik \" + str(score_fin) + \" Decyzja \" + \"- \" + decyzja)\n",
    "    "
   ]
  },
  {
   "cell_type": "markdown",
   "metadata": {},
   "source": [
    "Prowadzenie pętli"
   ]
  },
  {
   "cell_type": "code",
   "execution_count": null,
   "metadata": {},
   "outputs": [],
   "source": [
    "def aplikacja():\n",
    "    while True:\n",
    "        pytanie = input(\"Jeśli chcesz uruchamić program wpisz Y\")\n",
    "        pytanie = pytanie.upper()\n",
    "        if pytanie == \"Y\":\n",
    "            fin()\n",
    "            del score_list [0:6]\n",
    "        else:\n",
    "            print (\"Dowidzenia!\")\n",
    "            break"
   ]
  },
  {
   "cell_type": "markdown",
   "metadata": {},
   "source": [
    "Test aplikacji"
   ]
  },
  {
   "cell_type": "code",
   "execution_count": 27,
   "metadata": {},
   "outputs": [
    {
     "name": "stdout",
     "output_type": "stream",
     "text": [
      "Jeśli chcesz uruchamić program wpisz Yy\n",
      "Podaj ID klienta: 345\n",
      "Wprowadź wiek klienta w latach: 45\n",
      "Wprowadź stan cywilny klienta: singiel, małżonek, wdowiec, w separacji: w separacji\n",
      "Wprowadź poziom wykształcenia klienta: podstawowe, średnie, wyższe, niepełne wyższe: wyższe\n",
      "Podaj ilość członków rodziny klienta: 0,1,2,3,..5 - w przypadku 5 lub więcej: 3\n",
      "Podaj dochód klienta w liczbach całkowitych: 150000\n",
      "Podaja sumę kredytu z odsetkami1000000\n",
      "Podaj ilosc rat360\n",
      "Podaj dochód klienta w liczbach całkowitych: \n"
     ]
    },
    {
     "ename": "KeyboardInterrupt",
     "evalue": "",
     "output_type": "error",
     "traceback": [
      "\u001b[1;31m---------------------------------------------------------------------------\u001b[0m",
      "\u001b[1;31mKeyboardInterrupt\u001b[0m                         Traceback (most recent call last)",
      "\u001b[1;32mC:\\kurs_jds\\soft\\anaconda3\\lib\\site-packages\\ipykernel\\kernelbase.py\u001b[0m in \u001b[0;36m_input_request\u001b[1;34m(self, prompt, ident, parent, password)\u001b[0m\n\u001b[0;32m    883\u001b[0m             \u001b[1;32mtry\u001b[0m\u001b[1;33m:\u001b[0m\u001b[1;33m\u001b[0m\u001b[1;33m\u001b[0m\u001b[0m\n\u001b[1;32m--> 884\u001b[1;33m                 \u001b[0mident\u001b[0m\u001b[1;33m,\u001b[0m \u001b[0mreply\u001b[0m \u001b[1;33m=\u001b[0m \u001b[0mself\u001b[0m\u001b[1;33m.\u001b[0m\u001b[0msession\u001b[0m\u001b[1;33m.\u001b[0m\u001b[0mrecv\u001b[0m\u001b[1;33m(\u001b[0m\u001b[0mself\u001b[0m\u001b[1;33m.\u001b[0m\u001b[0mstdin_socket\u001b[0m\u001b[1;33m,\u001b[0m \u001b[1;36m0\u001b[0m\u001b[1;33m)\u001b[0m\u001b[1;33m\u001b[0m\u001b[1;33m\u001b[0m\u001b[0m\n\u001b[0m\u001b[0;32m    885\u001b[0m             \u001b[1;32mexcept\u001b[0m \u001b[0mException\u001b[0m\u001b[1;33m:\u001b[0m\u001b[1;33m\u001b[0m\u001b[1;33m\u001b[0m\u001b[0m\n",
      "\u001b[1;32mC:\\kurs_jds\\soft\\anaconda3\\lib\\site-packages\\jupyter_client\\session.py\u001b[0m in \u001b[0;36mrecv\u001b[1;34m(self, socket, mode, content, copy)\u001b[0m\n\u001b[0;32m    802\u001b[0m         \u001b[1;32mtry\u001b[0m\u001b[1;33m:\u001b[0m\u001b[1;33m\u001b[0m\u001b[1;33m\u001b[0m\u001b[0m\n\u001b[1;32m--> 803\u001b[1;33m             \u001b[0mmsg_list\u001b[0m \u001b[1;33m=\u001b[0m \u001b[0msocket\u001b[0m\u001b[1;33m.\u001b[0m\u001b[0mrecv_multipart\u001b[0m\u001b[1;33m(\u001b[0m\u001b[0mmode\u001b[0m\u001b[1;33m,\u001b[0m \u001b[0mcopy\u001b[0m\u001b[1;33m=\u001b[0m\u001b[0mcopy\u001b[0m\u001b[1;33m)\u001b[0m\u001b[1;33m\u001b[0m\u001b[1;33m\u001b[0m\u001b[0m\n\u001b[0m\u001b[0;32m    804\u001b[0m         \u001b[1;32mexcept\u001b[0m \u001b[0mzmq\u001b[0m\u001b[1;33m.\u001b[0m\u001b[0mZMQError\u001b[0m \u001b[1;32mas\u001b[0m \u001b[0me\u001b[0m\u001b[1;33m:\u001b[0m\u001b[1;33m\u001b[0m\u001b[1;33m\u001b[0m\u001b[0m\n",
      "\u001b[1;32mC:\\kurs_jds\\soft\\anaconda3\\lib\\site-packages\\zmq\\sugar\\socket.py\u001b[0m in \u001b[0;36mrecv_multipart\u001b[1;34m(self, flags, copy, track)\u001b[0m\n\u001b[0;32m    474\u001b[0m         \"\"\"\n\u001b[1;32m--> 475\u001b[1;33m         \u001b[0mparts\u001b[0m \u001b[1;33m=\u001b[0m \u001b[1;33m[\u001b[0m\u001b[0mself\u001b[0m\u001b[1;33m.\u001b[0m\u001b[0mrecv\u001b[0m\u001b[1;33m(\u001b[0m\u001b[0mflags\u001b[0m\u001b[1;33m,\u001b[0m \u001b[0mcopy\u001b[0m\u001b[1;33m=\u001b[0m\u001b[0mcopy\u001b[0m\u001b[1;33m,\u001b[0m \u001b[0mtrack\u001b[0m\u001b[1;33m=\u001b[0m\u001b[0mtrack\u001b[0m\u001b[1;33m)\u001b[0m\u001b[1;33m]\u001b[0m\u001b[1;33m\u001b[0m\u001b[1;33m\u001b[0m\u001b[0m\n\u001b[0m\u001b[0;32m    476\u001b[0m         \u001b[1;31m# have first part already, only loop while more to receive\u001b[0m\u001b[1;33m\u001b[0m\u001b[1;33m\u001b[0m\u001b[1;33m\u001b[0m\u001b[0m\n",
      "\u001b[1;32mzmq/backend/cython/socket.pyx\u001b[0m in \u001b[0;36mzmq.backend.cython.socket.Socket.recv\u001b[1;34m()\u001b[0m\n",
      "\u001b[1;32mzmq/backend/cython/socket.pyx\u001b[0m in \u001b[0;36mzmq.backend.cython.socket.Socket.recv\u001b[1;34m()\u001b[0m\n",
      "\u001b[1;32mzmq/backend/cython/socket.pyx\u001b[0m in \u001b[0;36mzmq.backend.cython.socket._recv_copy\u001b[1;34m()\u001b[0m\n",
      "\u001b[1;32mC:\\kurs_jds\\soft\\anaconda3\\lib\\site-packages\\zmq\\backend\\cython\\checkrc.pxd\u001b[0m in \u001b[0;36mzmq.backend.cython.checkrc._check_rc\u001b[1;34m()\u001b[0m\n",
      "\u001b[1;31mKeyboardInterrupt\u001b[0m: ",
      "\nDuring handling of the above exception, another exception occurred:\n",
      "\u001b[1;31mKeyboardInterrupt\u001b[0m                         Traceback (most recent call last)",
      "\u001b[1;32m<ipython-input-27-918c6eb16d1a>\u001b[0m in \u001b[0;36m<module>\u001b[1;34m\u001b[0m\n\u001b[1;32m----> 1\u001b[1;33m \u001b[0maplikacja\u001b[0m\u001b[1;33m(\u001b[0m\u001b[1;33m)\u001b[0m\u001b[1;33m\u001b[0m\u001b[1;33m\u001b[0m\u001b[0m\n\u001b[0m",
      "\u001b[1;32m<ipython-input-17-a1203110506a>\u001b[0m in \u001b[0;36maplikacja\u001b[1;34m()\u001b[0m\n\u001b[0;32m      4\u001b[0m         \u001b[0mpytanie\u001b[0m \u001b[1;33m=\u001b[0m \u001b[0mpytanie\u001b[0m\u001b[1;33m.\u001b[0m\u001b[0mupper\u001b[0m\u001b[1;33m(\u001b[0m\u001b[1;33m)\u001b[0m\u001b[1;33m\u001b[0m\u001b[1;33m\u001b[0m\u001b[0m\n\u001b[0;32m      5\u001b[0m         \u001b[1;32mif\u001b[0m \u001b[0mpytanie\u001b[0m \u001b[1;33m==\u001b[0m \u001b[1;34m\"Y\"\u001b[0m\u001b[1;33m:\u001b[0m\u001b[1;33m\u001b[0m\u001b[1;33m\u001b[0m\u001b[0m\n\u001b[1;32m----> 6\u001b[1;33m             \u001b[0mfin\u001b[0m\u001b[1;33m(\u001b[0m\u001b[1;33m)\u001b[0m\u001b[1;33m\u001b[0m\u001b[1;33m\u001b[0m\u001b[0m\n\u001b[0m\u001b[0;32m      7\u001b[0m             \u001b[1;32mdel\u001b[0m \u001b[0mscore_list\u001b[0m \u001b[1;33m[\u001b[0m\u001b[1;36m0\u001b[0m\u001b[1;33m:\u001b[0m\u001b[1;36m6\u001b[0m\u001b[1;33m]\u001b[0m\u001b[1;33m\u001b[0m\u001b[1;33m\u001b[0m\u001b[0m\n\u001b[0;32m      8\u001b[0m         \u001b[1;32melse\u001b[0m\u001b[1;33m:\u001b[0m\u001b[1;33m\u001b[0m\u001b[1;33m\u001b[0m\u001b[0m\n",
      "\u001b[1;32m<ipython-input-16-634378804510>\u001b[0m in \u001b[0;36mfin\u001b[1;34m()\u001b[0m\n\u001b[0;32m      5\u001b[0m     \u001b[0mq3\u001b[0m\u001b[1;33m(\u001b[0m\u001b[1;33m)\u001b[0m\u001b[1;33m\u001b[0m\u001b[1;33m\u001b[0m\u001b[0m\n\u001b[0;32m      6\u001b[0m     \u001b[0mq4\u001b[0m\u001b[1;33m(\u001b[0m\u001b[1;33m)\u001b[0m\u001b[1;33m\u001b[0m\u001b[1;33m\u001b[0m\u001b[0m\n\u001b[1;32m----> 7\u001b[1;33m     \u001b[0mq5\u001b[0m\u001b[1;33m(\u001b[0m\u001b[1;33m)\u001b[0m\u001b[1;33m\u001b[0m\u001b[1;33m\u001b[0m\u001b[0m\n\u001b[0m\u001b[0;32m      8\u001b[0m     \u001b[0mq6\u001b[0m\u001b[1;33m(\u001b[0m\u001b[1;33m)\u001b[0m\u001b[1;33m\u001b[0m\u001b[1;33m\u001b[0m\u001b[0m\n\u001b[0;32m      9\u001b[0m     \u001b[0mscore_fin\u001b[0m \u001b[1;33m=\u001b[0m \u001b[1;33m(\u001b[0m\u001b[0msum\u001b[0m\u001b[1;33m(\u001b[0m\u001b[0mscore_list\u001b[0m\u001b[1;33m)\u001b[0m\u001b[1;33m)\u001b[0m\u001b[1;33m\u001b[0m\u001b[1;33m\u001b[0m\u001b[0m\n",
      "\u001b[1;32m<ipython-input-25-48b25b2659dc>\u001b[0m in \u001b[0;36mq5\u001b[1;34m()\u001b[0m\n\u001b[0;32m      4\u001b[0m     \u001b[1;32mwhile\u001b[0m \u001b[1;32mTrue\u001b[0m\u001b[1;33m:\u001b[0m\u001b[1;33m\u001b[0m\u001b[1;33m\u001b[0m\u001b[0m\n\u001b[0;32m      5\u001b[0m         \u001b[1;32mtry\u001b[0m\u001b[1;33m:\u001b[0m\u001b[1;33m\u001b[0m\u001b[1;33m\u001b[0m\u001b[0m\n\u001b[1;32m----> 6\u001b[1;33m             \u001b[0mt4\u001b[0m \u001b[1;33m=\u001b[0m \u001b[0minput\u001b[0m\u001b[1;33m(\u001b[0m\u001b[1;34m\"Podaj dochód klienta w liczbach całkowitych: \"\u001b[0m\u001b[1;33m)\u001b[0m\u001b[1;33m\u001b[0m\u001b[1;33m\u001b[0m\u001b[0m\n\u001b[0m\u001b[0;32m      7\u001b[0m             \u001b[0mincome\u001b[0m \u001b[1;33m=\u001b[0m \u001b[0mint\u001b[0m\u001b[1;33m(\u001b[0m\u001b[0mt4\u001b[0m\u001b[1;33m)\u001b[0m\u001b[1;33m\u001b[0m\u001b[1;33m\u001b[0m\u001b[0m\n\u001b[0;32m      8\u001b[0m             \u001b[0mkwota_kredytu\u001b[0m \u001b[1;33m=\u001b[0m \u001b[0minput\u001b[0m\u001b[1;33m(\u001b[0m\u001b[1;34m\"Podaja sumę kredytu z odsetkami\"\u001b[0m\u001b[1;33m)\u001b[0m\u001b[1;33m\u001b[0m\u001b[1;33m\u001b[0m\u001b[0m\n",
      "\u001b[1;32mC:\\kurs_jds\\soft\\anaconda3\\lib\\site-packages\\ipykernel\\kernelbase.py\u001b[0m in \u001b[0;36mraw_input\u001b[1;34m(self, prompt)\u001b[0m\n\u001b[0;32m    857\u001b[0m             \u001b[0mself\u001b[0m\u001b[1;33m.\u001b[0m\u001b[0m_parent_ident\u001b[0m\u001b[1;33m,\u001b[0m\u001b[1;33m\u001b[0m\u001b[1;33m\u001b[0m\u001b[0m\n\u001b[0;32m    858\u001b[0m             \u001b[0mself\u001b[0m\u001b[1;33m.\u001b[0m\u001b[0m_parent_header\u001b[0m\u001b[1;33m,\u001b[0m\u001b[1;33m\u001b[0m\u001b[1;33m\u001b[0m\u001b[0m\n\u001b[1;32m--> 859\u001b[1;33m             \u001b[0mpassword\u001b[0m\u001b[1;33m=\u001b[0m\u001b[1;32mFalse\u001b[0m\u001b[1;33m,\u001b[0m\u001b[1;33m\u001b[0m\u001b[1;33m\u001b[0m\u001b[0m\n\u001b[0m\u001b[0;32m    860\u001b[0m         )\n\u001b[0;32m    861\u001b[0m \u001b[1;33m\u001b[0m\u001b[0m\n",
      "\u001b[1;32mC:\\kurs_jds\\soft\\anaconda3\\lib\\site-packages\\ipykernel\\kernelbase.py\u001b[0m in \u001b[0;36m_input_request\u001b[1;34m(self, prompt, ident, parent, password)\u001b[0m\n\u001b[0;32m    887\u001b[0m             \u001b[1;32mexcept\u001b[0m \u001b[0mKeyboardInterrupt\u001b[0m\u001b[1;33m:\u001b[0m\u001b[1;33m\u001b[0m\u001b[1;33m\u001b[0m\u001b[0m\n\u001b[0;32m    888\u001b[0m                 \u001b[1;31m# re-raise KeyboardInterrupt, to truncate traceback\u001b[0m\u001b[1;33m\u001b[0m\u001b[1;33m\u001b[0m\u001b[1;33m\u001b[0m\u001b[0m\n\u001b[1;32m--> 889\u001b[1;33m                 \u001b[1;32mraise\u001b[0m \u001b[0mKeyboardInterrupt\u001b[0m\u001b[1;33m\u001b[0m\u001b[1;33m\u001b[0m\u001b[0m\n\u001b[0m\u001b[0;32m    890\u001b[0m             \u001b[1;32melse\u001b[0m\u001b[1;33m:\u001b[0m\u001b[1;33m\u001b[0m\u001b[1;33m\u001b[0m\u001b[0m\n\u001b[0;32m    891\u001b[0m                 \u001b[1;32mbreak\u001b[0m\u001b[1;33m\u001b[0m\u001b[1;33m\u001b[0m\u001b[0m\n",
      "\u001b[1;31mKeyboardInterrupt\u001b[0m: "
     ]
    }
   ],
   "source": [
    "aplikacja()"
   ]
  },
  {
   "cell_type": "code",
   "execution_count": null,
   "metadata": {},
   "outputs": [],
   "source": []
  },
  {
   "cell_type": "code",
   "execution_count": null,
   "metadata": {},
   "outputs": [],
   "source": []
  }
 ],
 "metadata": {
  "kernelspec": {
   "display_name": "Python 3",
   "language": "python",
   "name": "python3"
  },
  "language_info": {
   "codemirror_mode": {
    "name": "ipython",
    "version": 3
   },
   "file_extension": ".py",
   "mimetype": "text/x-python",
   "name": "python",
   "nbconvert_exporter": "python",
   "pygments_lexer": "ipython3",
   "version": "3.7.6"
  }
 },
 "nbformat": 4,
 "nbformat_minor": 4
}
