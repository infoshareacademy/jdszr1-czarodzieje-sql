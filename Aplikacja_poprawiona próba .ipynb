{
 "cells": [
  {
   "cell_type": "markdown",
   "metadata": {},
   "source": [
    "## Aplikacja określająca ryzyko niewypłacalności potencjalnego pożyczkobiorcy\n",
    "\n"
   ]
  },
  {
   "cell_type": "markdown",
   "metadata": {},
   "source": [
    "Aplikacja jest przeznaczona dla pracownika obsługi klienta indywidualnego banku i pomaga oszacować ryzyko jego niewypłacalności i podjąć decyzję o dalszych krokach.\n",
    "\n",
    "Instrukcja dla pracownika:\n",
    "1. Sprawdź dane osobowe klienta.\n",
    "2. Zbierz wymagane informacje i wprowadź je do systemu.\n",
    "3. Zapoznaj się z punktacją i wykresem.\n",
    "4. Przekaż informację o dalszych krokach klientowi. \n"
   ]
  },
  {
   "cell_type": "markdown",
   "metadata": {},
   "source": [
    "Podstawą ocen klienta jest punktacja. Może on otrzymać 0-13 punktów, przy czym im mniej, tym lepiej.\n",
    "\n",
    "Instrukcja dla pracownika:\n",
    "    <5 - natychmiastowa zgoda.\n",
    "    5-7 - do dalszej analizy.\n",
    "    8-9 - do dalszej analizy, po dostarczeniu dokumentów.\n",
    "    >9 - natychmiastowa odmowa. "
   ]
  },
  {
   "cell_type": "code",
   "execution_count": 9,
   "metadata": {},
   "outputs": [],
   "source": [
    "# Do przypisania 0 lub 2 pkt. 2 pkt w przypadku wieku poniżej 30 lub powyżej 50 lat. \n",
    "score_list = []\n",
    "def q1():\n",
    "    score_client = 0\n",
    "    while True:\n",
    "        try:\n",
    "            t = input(\"Wprowadź wiek klienta w latach: \")\n",
    "            years = int(t)            \n",
    "            if years in range (0,110):\n",
    "                if years <30 or years >60:\n",
    "                    score_client +=2\n",
    "                break\n",
    "            else:\n",
    "                print(\"Podaj prawidłową wartość\")\n",
    "        except ValueError:\n",
    "            print(\"Podaj prawidłową wartość\")            \n",
    "    score_list.append(score_client)    "
   ]
  },
  {
   "cell_type": "code",
   "execution_count": 10,
   "metadata": {},
   "outputs": [],
   "source": [
    "# Do przypisania 0 lub 1 pkt. 1 pkt w przypadku singla\n",
    "def q2():\n",
    "    score_client2 = 0\n",
    "    while True:\n",
    "        t1 = input(\"Wprowadź stan cywilny klienta: singiel, małżonek, wdowiec, w separacji: \")\n",
    "        list = (\"singiel\", \"małżonek\", \"wdowiec\", \"w separacji\")\n",
    "        if t1 in list:\n",
    "            if t1 == \"singiel\":\n",
    "                score_client2 +=1\n",
    "            break\n",
    "        else:\n",
    "            print(\"Podaj prawidłowy stan cywilny\")            \n",
    "    score_list.append(score_client2)"
   ]
  },
  {
   "cell_type": "code",
   "execution_count": 11,
   "metadata": {
    "scrolled": true
   },
   "outputs": [],
   "source": [
    "# Do przypisania 0 lub 2 pkt. 2 pkt w przypadku wykształcenia podstawowego \n",
    "def q3():\n",
    "    score_client3 = 0\n",
    "    while True:\n",
    "        t2 = input(\"Wprowadź poziom wykształcenia klienta: podstawowe, średnie, wyższe, niepełne wyższe: \")\n",
    "        list = (\"podstawowe\", \"średnie\", \"wyższe\", \"niepełne wyższe\")\n",
    "        if t2 in list:\n",
    "            if t2 == \"podstawowe\":\n",
    "                score_client3 +=2\n",
    "            break\n",
    "        else:\n",
    "            print(\"Podaj prawidłowy poziom wykształcena \")\n",
    "    score_list.append(score_client3)"
   ]
  },
  {
   "cell_type": "code",
   "execution_count": 12,
   "metadata": {},
   "outputs": [],
   "source": [
    "# Do przypisania 0 lub 2 pkt. 2 pkt w przypadku 3 członków rodziny.\n",
    "def q4():\n",
    "    score_client4 = 0\n",
    "    while True:\n",
    "        try:\n",
    "            t3 = input(\"Podaj ilość członków rodziny klienta: 0,1,2,3,..5 - w przypadku 5 lub więcej: \")\n",
    "            f_size = int(t3)\n",
    "            if f_size in range (0,10):\n",
    "                if f_size == 3:\n",
    "                    score_client4 +=2\n",
    "                break\n",
    "            else:\n",
    "                print(\"Podaj prawidłową wartość.\")\n",
    "        except ValueError:\n",
    "            print(\"Podaj prawidłową wartość\")            \n",
    "    score_list.append(score_client4)       "
   ]
  },
  {
   "cell_type": "code",
   "execution_count": 28,
   "metadata": {},
   "outputs": [],
   "source": [
    "# Do przypisania 0 lub 3 pkt. 1 pkt w przypadku, gdy dochod wynosi mniej, niż kwota raty + koszty zobowiazan. \n",
    "def q5():\n",
    "    score_client5 = 0\n",
    "    while True:\n",
    "        try:\n",
    "            t4 = input(\"Podaj dochód klienta w liczbach całkowitych: \")\n",
    "            income = int(t4)\n",
    "            kwota_kredytu = input(\"Podaja sumę kredytu z odsetkami\")\n",
    "            ilosc_rat = input(\"Podaj ilosc rat\")\n",
    "            rata = int(kwota_kredytu) / (int(ilosc_rat)*12)\n",
    "            if income <= rata:\n",
    "                score_client5 +=3\n",
    "                break\n",
    "            else:\n",
    "                score_client5 += 0\n",
    "        except ValueError:\n",
    "            print(\"Podaj prawidłową wartość\")\n",
    "    score_list.append(score_client5)"
   ]
  },
  {
   "cell_type": "code",
   "execution_count": 15,
   "metadata": {},
   "outputs": [],
   "source": [
    "# Do przypisania 3 lub 3 pkt. 3 pkt w przypadku emeryta, 2 pkt. w przypadku działalności.  \n",
    "def q6 ():\n",
    "    score_client6 = 0\n",
    "    while True:\n",
    "        t5 = input(\"Podaj rodzaj dochodu klienta: UOP, działalność, emeryt, student, inne \")\n",
    "        list = (\"UOP\", \"działalność\", \"emeryt\", \"student\", \"inne\")\n",
    "        if t5 in list:\n",
    "            if t5 in list:\n",
    "                if t5 == \"emeryt\":\n",
    "                    score_client6 +=3\n",
    "                elif t5 == \"działalność\":\n",
    "                    score_client6 +=2\n",
    "            break\n",
    "        else:\n",
    "            print(\"Podaj prawidłowy rodzaj dochodu.\")\n",
    "    score_list.append(score_client6)"
   ]
  },
  {
   "cell_type": "markdown",
   "metadata": {},
   "source": [
    "Złożenie części składowych aplikacji"
   ]
  },
  {
   "cell_type": "code",
   "execution_count": null,
   "metadata": {},
   "outputs": [],
   "source": [
    "def fin():\n",
    "    dane = input (\"Podaj ID klienta: \")\n",
    "    q1()\n",
    "    q2()\n",
    "    q3()\n",
    "    q4()\n",
    "    q5()\n",
    "    q6()\n",
    "    score_fin = (sum(score_list))\n",
    "    if score_fin < 5:\n",
    "        decyzja = (\"Zgoda\")\n",
    "    if score_fin in range (5,8):\n",
    "        decyzja = (\"Do analizy\")\n",
    "    if score_fin in range (8,10):\n",
    "        decyzja = (\"Do analizy po dostarczeniu dokumentów\")\n",
    "    if score_fin > 10:\n",
    "        decyzja = (\"Odrzucono\")\n",
    "    print (str(dane) +\":\" + \" Wynik \" + str(score_fin) + \" Decyzja \" + \"- \" + decyzja)\n",
    "    "
   ]
  },
  {
   "cell_type": "markdown",
   "metadata": {},
   "source": [
    "Prowadzenie pętli"
   ]
  },
  {
   "cell_type": "code",
   "execution_count": null,
   "metadata": {},
   "outputs": [],
   "source": [
    "def aplikacja():\n",
    "    while True:\n",
    "        pytanie = input(\"Jeśli chcesz uruchamić program wpisz Y\")\n",
    "        pytanie = pytanie.upper()\n",
    "        if pytanie == \"Y\":\n",
    "            fin()\n",
    "            del score_list [0:6]\n",
    "        else:\n",
    "            print (\"Dowidzenia!\")\n",
    "            break"
   ]
  },
  {
   "cell_type": "markdown",
   "metadata": {},
   "source": [
    "Test aplikacji"
   ]
  },
  {
   "cell_type": "markdown",
   "metadata": {},
   "source": [
    "34\n",
    "5##### aplikacja()"
   ]
  },
  {
   "cell_type": "code",
   "execution_count": null,
   "metadata": {},
   "outputs": [],
   "source": []
  },
  {
   "cell_type": "code",
   "execution_count": null,
   "metadata": {},
   "outputs": [],
   "source": []
  }
 ],
 "metadata": {
  "kernelspec": {
   "display_name": "Python 3",
   "language": "python",
   "name": "python3"
  },
  "language_info": {
   "codemirror_mode": {
    "name": "ipython",
    "version": 3
   },
   "file_extension": ".py",
   "mimetype": "text/x-python",
   "name": "python",
   "nbconvert_exporter": "python",
   "pygments_lexer": "ipython3",
   "version": "3.7.6"
  }
 },
 "nbformat": 4,
 "nbformat_minor": 4
}
