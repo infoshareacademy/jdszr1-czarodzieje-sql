{
 "cells": [
  {
   "cell_type": "markdown",
   "metadata": {},
   "source": [
    "## Aplikacja określająca ryzyko niewypłacalności potencjalnego pożyczkobiorcy\n",
    "\n"
   ]
  },
  {
   "cell_type": "markdown",
   "metadata": {},
   "source": [
    "Aplikacja jest przeznaczona dla pracownika obsługi klienta indywidualnego banku i pomaga oszacować ryzyko jego niewypłacalności i podjąć decyzję o dalszych krokach.\n",
    "\n",
    "Instrukcja dla pracownika:\n",
    "1. Sprawdź dane osobowe klienta.\n",
    "2. Zbierz wymagane informacje i wprowadź je do systemu.\n",
    "3. Zapoznaj się z punktacją i wykresem.\n",
    "4. Przekaż informację o dalszych krokach klientowi. \n"
   ]
  },
  {
   "cell_type": "markdown",
   "metadata": {},
   "source": [
    "Podstawą ocen klienta jest punktacja. Może on otrzymać 0-13 punktów, przy czym im mniej, tym lepiej.\n",
    "\n",
    "Instrukcja dla pracownika:\n",
    "    <5 - natychmiastowa zgoda.\n",
    "    5-7 - do dalszej analizy.\n",
    "    8-9 - do dalszej analizy, po dostarczeniu dokumentów.\n",
    "    >9 - natychmiastowa odmowa. "
   ]
  },
  {
   "cell_type": "code",
   "execution_count": 2,
   "metadata": {},
   "outputs": [
    {
     "name": "stdout",
     "output_type": "stream",
     "text": [
      "Wprowadź wiek klienta w latach: 25\n",
      "Obecna ocena klienta to:  2\n"
     ]
    }
   ],
   "source": [
    "# Do przypisania 0 lub 2 pkt. 2 pkt w przypadku wieku poniżej 30 lub powyżej 50 lat. \n",
    "score_client = 0\n",
    "\n",
    "t = input(\"Wprowadź wiek klienta w latach: \")\n",
    "years = int(t)\n",
    "if years in range (0,110):\n",
    "    if years <30 or years >60:\n",
    "        score_client +=2\n",
    "        print(\"Obecna ocena klienta to: \", score_client)\n",
    "else:\n",
    "    print(\"Podaj prawidłową wartość\")\n",
    "    "
   ]
  },
  {
   "cell_type": "code",
   "execution_count": 3,
   "metadata": {},
   "outputs": [
    {
     "name": "stdout",
     "output_type": "stream",
     "text": [
      "Wprowadź stan cywilny klienta: singiel, małżonek, wdowiec, w separacji: singiel\n",
      "Obecna ocena klienta to:  3\n"
     ]
    }
   ],
   "source": [
    "# Do przypisania 0 lub 1 pkt. 1 pkt w przypadku singla\n",
    "t1 = input(\"Wprowadź stan cywilny klienta: singiel, małżonek, wdowiec, w separacji: \")\n",
    "list = (\"singiel\", \"małżonek\", \"wdowiec\", \"w separacji\")\n",
    "if t1 in list:\n",
    "    if t1 == \"singiel\":\n",
    "        score_client +=1\n",
    "else:\n",
    "    print(\"Podaj prawidłowy stan cywilny\")\n",
    "    \n",
    "print(\"Obecna ocena klienta to: \", score_client)"
   ]
  },
  {
   "cell_type": "code",
   "execution_count": 10,
   "metadata": {},
   "outputs": [
    {
     "name": "stdout",
     "output_type": "stream",
     "text": [
      "Wprowadź poziom wykształcenia klienta: podstawowe, średnie, wyższe, niepełne wyższe: podstawowe\n",
      "Obecna ocena klienta to:  7\n"
     ]
    }
   ],
   "source": [
    "# Do przypisania 0 lub 2 pkt. 2 pkt w przypadku wykształcenia podstawowego \n",
    "t2 = input(\"Wprowadź poziom wykształcenia klienta: podstawowe, średnie, wyższe, niepełne wyższe: \")\n",
    "list = (\"podstawowe\", \"średnie\", \"wyższe\", \"niepełne wyższe\")\n",
    "if t2 in list:\n",
    "    if t2 == \"podstawowe\":\n",
    "        score_client +=2\n",
    "\n",
    "else:\n",
    "    print(\"Podaj prawidłowy poziom wykształcena \")\n",
    "print(\"Obecna ocena klienta to: \", score_client)    \n",
    "    "
   ]
  },
  {
   "cell_type": "code",
   "execution_count": 11,
   "metadata": {},
   "outputs": [
    {
     "name": "stdout",
     "output_type": "stream",
     "text": [
      "Podaj ilość członków rodziny klienta: 0,1,2,3,..5 - w przypadku 5 lub więcej: 2\n",
      "Obecna ocena klienta to:  7\n"
     ]
    }
   ],
   "source": [
    "# Do przypisania 0 lub 2 pkt. 2 pkt w przypadku 3 członków rodziny.\n",
    "t3 = input(\"Podaj ilość członków rodziny klienta: 0,1,2,3,..5 - w przypadku 5 lub więcej: \")\n",
    "f_size = int(t3)\n",
    "if f_size in range (0,10):\n",
    "    if f_size == 3:\n",
    "        score_client +=2\n",
    "else:\n",
    "    print(\"Podaj prawidłową wartość.\")\n",
    "    \n",
    "print(\"Obecna ocena klienta to: \", score_client)"
   ]
  },
  {
   "cell_type": "code",
   "execution_count": 12,
   "metadata": {},
   "outputs": [
    {
     "name": "stdout",
     "output_type": "stream",
     "text": [
      "Podaj dochód klienta w liczbach całkowitych: 149000\n",
      "Obecna ocena klienta to:  8\n"
     ]
    }
   ],
   "source": [
    "# Do przypisania 0 lub 1 pkt. 1 pkt w przypadku dochodu poniżej 150 tys. \n",
    "t4 = input(\"Podaj dochód klienta w liczbach całkowitych: \")\n",
    "income = int(t4)\n",
    "if income <= 150000:\n",
    "        score_client +=1\n",
    "else:\n",
    "    print(\"Podaj prawidłową wartość.\")\n",
    "    \n",
    "print(\"Obecna ocena klienta to: \", score_client)"
   ]
  },
  {
   "cell_type": "code",
   "execution_count": 14,
   "metadata": {},
   "outputs": [
    {
     "name": "stdout",
     "output_type": "stream",
     "text": [
      "Podaj rodzaj dochodu klienta: UOP, działalność, emeryt, student, inneemeryt\n",
      "Końcowa ocena klienta to:  11\n"
     ]
    }
   ],
   "source": [
    "# Do przypisania 3 lub 3 pkt. 3 pkt w przypadku emeryta, 2 pkt. w przypadku działalności.  \n",
    "t5 = input(\"Podaj rodzaj dochodu klienta: UOP, działalność, emeryt, student, inne\")\n",
    "list = (\"UOP\", \"działalność\", \"emeryt\", \"student\", \"inne\")\n",
    "\n",
    "if t5 in list:\n",
    "    if t5 == \"emeryt\":\n",
    "        score_client +=3\n",
    "    elif t5 == \"działalność\":\n",
    "        score_client +=2\n",
    "else:\n",
    "    print(\"Podaj prawidłowy rodzaj dochodu.\")\n",
    "    \n",
    "print(\"Końcowa ocena klienta to: \", score_client)"
   ]
  }
 ],
 "metadata": {
  "kernelspec": {
   "display_name": "Python 3",
   "language": "python",
   "name": "python3"
  },
  "language_info": {
   "codemirror_mode": {
    "name": "ipython",
    "version": 3
   },
   "file_extension": ".py",
   "mimetype": "text/x-python",
   "name": "python",
   "nbconvert_exporter": "python",
   "pygments_lexer": "ipython3",
   "version": "3.7.6"
  }
 },
 "nbformat": 4,
 "nbformat_minor": 4
}
