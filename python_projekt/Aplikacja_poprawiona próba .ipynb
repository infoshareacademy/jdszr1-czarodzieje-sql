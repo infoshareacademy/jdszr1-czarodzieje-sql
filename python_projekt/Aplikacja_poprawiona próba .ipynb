{
 "cells": [
  {
   "cell_type": "markdown",
   "metadata": {},
   "source": [
    "## Aplikacja określająca ryzyko niewypłacalności potencjalnego pożyczkobiorcy\n",
    "\n"
   ]
  },
  {
   "cell_type": "markdown",
   "metadata": {},
   "source": [
    "Aplikacja jest przeznaczona dla pracownika obsługi klienta indywidualnego banku i pomaga oszacować ryzyko jego niewypłacalności i podjąć decyzję o dalszych krokach.\n",
    "\n",
    "Instrukcja dla pracownika:\n",
    "1. Sprawdź dane osobowe klienta.\n",
    "2. Zbierz wymagane informacje i wprowadź je do systemu.\n",
    "3. Zapoznaj się z punktacją i wykresem.\n",
    "4. Przekaż informację o dalszych krokach klientowi. \n"
   ]
  },
  {
   "cell_type": "markdown",
   "metadata": {},
   "source": [
    "Podstawą ocen klienta jest punktacja. Może on otrzymać 0-13 punktów, przy czym im mniej, tym lepiej.\n",
    "\n",
    "Instrukcja dla pracownika:\n",
    "    <5 - natychmiastowa zgoda.\n",
    "    5-7 - do dalszej analizy.\n",
    "    8-9 - do dalszej analizy, po dostarczeniu dokumentów.\n",
    "    >9 - natychmiastowa odmowa. "
   ]
  },
  {
   "cell_type": "code",
   "execution_count": 1,
   "metadata": {},
   "outputs": [],
   "source": [
    "# Do przypisania 0 lub 2 pkt. 2 pkt w przypadku wieku poniżej 30 lub powyżej 50 lat. \n",
    "score_list = []\n",
    "def q1 ():\n",
    "    score_client = 0\n",
    "    while True:\n",
    "        try:\n",
    "            t = input(\"Wprowadź wiek klienta w latach: \")\n",
    "            years = int(t)            \n",
    "            if years in range (0,110):\n",
    "                if years <30 or years >60:\n",
    "                    score_client +=2\n",
    "                break\n",
    "            else:\n",
    "                print(\"Podaj prawidłową wartość\")\n",
    "\n",
    "        except ValueError:\n",
    "            print(\"Podaj prawidłową wartość\")\n",
    "            \n",
    "    score_list.append(score_client)\n",
    "    "
   ]
  },
  {
   "cell_type": "code",
   "execution_count": 2,
   "metadata": {},
   "outputs": [],
   "source": [
    "# Do przypisania 0 lub 1 pkt. 1 pkt w przypadku singla\n",
    "def q2():\n",
    "    score_client2 = 0\n",
    "    while True:\n",
    "\n",
    "        t1 = input(\"Wprowadź stan cywilny klienta: singiel, małżonek, wdowiec, w separacji: \")\n",
    "        list = (\"singiel\", \"małżonek\", \"wdowiec\", \"w separacji\")\n",
    "\n",
    "        if t1 in list:\n",
    "\n",
    "            if t1 == \"singiel\":\n",
    "                score_client2 +=1\n",
    "\n",
    "            break\n",
    "\n",
    "        else:\n",
    "            print(\"Podaj prawidłowy stan cywilny\")\n",
    "            \n",
    "    score_list.append(score_client2)"
   ]
  },
  {
   "cell_type": "code",
   "execution_count": 3,
   "metadata": {
    "scrolled": true
   },
   "outputs": [],
   "source": [
    "# Do przypisania 0 lub 2 pkt. 2 pkt w przypadku wykształcenia podstawowego \n",
    "def q3():\n",
    "    score_client3 = 0\n",
    "    while True:\n",
    "\n",
    "        t2 = input(\"Wprowadź poziom wykształcenia klienta: podstawowe, średnie, wyższe, niepełne wyższe: \")\n",
    "        list = (\"podstawowe\", \"średnie\", \"wyższe\", \"niepełne wyższe\")\n",
    "\n",
    "        if t2 in list:\n",
    "\n",
    "            if t2 == \"podstawowe\":\n",
    "                score_client3 +=2\n",
    "\n",
    "            break\n",
    "\n",
    "        else:\n",
    "            print(\"Podaj prawidłowy poziom wykształcena \")\n",
    "\n",
    "    score_list.append(score_client3)"
   ]
  },
  {
   "cell_type": "code",
   "execution_count": 4,
   "metadata": {},
   "outputs": [],
   "source": [
    "# Do przypisania 0 lub 2 pkt. 2 pkt w przypadku 3 członków rodziny.\n",
    "def q4 ():\n",
    "    score_client4 = 0\n",
    "    while True:\n",
    "        try:\n",
    "            t3 = input(\"Podaj ilość członków rodziny klienta: 0,1,2,3,..5 - w przypadku 5 lub więcej: \")\n",
    "            f_size = int(t3)\n",
    "\n",
    "            if f_size in range (0,10):\n",
    "\n",
    "                if f_size == 3:\n",
    "                    score_client4 +=2 \n",
    "\n",
    "                break\n",
    "\n",
    "            else:\n",
    "                print(\"Podaj prawidłową wartość.\")\n",
    "\n",
    "        except ValueError:\n",
    "            print(\"Podaj prawidłową wartość\")\n",
    "            \n",
    "    score_list.append(score_client4)\n",
    "       "
   ]
  },
  {
   "cell_type": "code",
   "execution_count": 5,
   "metadata": {},
   "outputs": [],
   "source": [
    "# Do przypisania 0 lub 1 pkt. 1 pkt w przypadku dochodu poniżej 150 tys. \n",
    "def q5 ():\n",
    "    score_client5 = 0\n",
    "    while True:\n",
    "        try:\n",
    "            t4 = input(\"Podaj dochód klienta w liczbach całkowitych: \")\n",
    "            income = int(t4)\n",
    "\n",
    "            if income in range (0, 10000000000):\n",
    "\n",
    "                if income <= 150000:\n",
    "                    score_client5 +=1\n",
    "\n",
    "                break\n",
    "\n",
    "            else:\n",
    "                print(\"Podaj prawidłową wartość.\")\n",
    "\n",
    "        except ValueError:\n",
    "            print(\"Podaj prawidłową wartość\")\n",
    "\n",
    "    score_list.append(score_client5)\n",
    "       "
   ]
  },
  {
   "cell_type": "code",
   "execution_count": 6,
   "metadata": {},
   "outputs": [],
   "source": [
    "# Do przypisania 3 lub 3 pkt. 3 pkt w przypadku emeryta, 2 pkt. w przypadku działalności.  \n",
    "def q6 ():\n",
    "    score_client6 = 0\n",
    "    while True:\n",
    "\n",
    "        t5 = input(\"Podaj rodzaj dochodu klienta: UOP, działalność, emeryt, student, inne \")\n",
    "        list = (\"UOP\", \"działalność\", \"emeryt\", \"student\", \"inne\")\n",
    "\n",
    "        if t5 in list:\n",
    "\n",
    "            if t5 in list:\n",
    "                if t5 == \"emeryt\":\n",
    "                    score_client6 +=3\n",
    "                elif t5 == \"działalność\":\n",
    "\n",
    "                    score_client6 +=2\n",
    "            break\n",
    "\n",
    "        else:\n",
    "            print(\"Podaj prawidłowy rodzaj dochodu.\")\n",
    "\n",
    "    score_list.append(score_client6)"
   ]
  },
  {
   "cell_type": "markdown",
   "metadata": {},
   "source": [
    "Złożenie części składowych aplikacji"
   ]
  },
  {
   "cell_type": "code",
   "execution_count": 6,
   "metadata": {},
   "outputs": [],
   "source": [
    "def fin():\n",
    "    dane = input (\"Podaj ID klienta: \")\n",
    "    q1()\n",
    "    q2()\n",
    "    q3()\n",
    "    q4()\n",
    "    q5()\n",
    "    q6()\n",
    "    score_fin = (sum(score_list))\n",
    "    if score_fin < 5:\n",
    "        decyzja = (\"Zgoda\")\n",
    "    if score_fin in range (5,8):\n",
    "        decyzja = (\"Do analizy\")\n",
    "    if score_fin in range (8,10):\n",
    "        decyzja = (\"Do analizy po dostarczeniu dokumentów\")\n",
    "    if score_fin > 10:\n",
    "        decyzja = (\"Odrzucono\")\n",
    "    print (str(dane) +\":\" + \" Wynik \" + str(score_fin) + \" Decyzja \" + \"- \" + decyzja)\n",
    "    "
   ]
  },
  {
   "cell_type": "markdown",
   "metadata": {},
   "source": [
    "Prowadzenie pętli"
   ]
  },
  {
   "cell_type": "code",
   "execution_count": 7,
   "metadata": {},
   "outputs": [],
   "source": [
    "def aplikacja():\n",
    "    while True:\n",
    "        pytanie = input(\"Jeśli chcesz uruchamić program wpisz Y\")\n",
    "        if pytanie in (\"Y\"):\n",
    "            fin()\n",
    "            del score_list [0:6]\n",
    "        else:\n",
    "            print (\"Dowidzenia!\")\n",
    "            break\n"
   ]
  },
  {
   "cell_type": "markdown",
   "metadata": {},
   "source": [
    "Test aplikacji"
   ]
  },
  {
   "cell_type": "code",
   "execution_count": 1,
   "metadata": {},
   "outputs": [
    {
     "ename": "NameError",
     "evalue": "name 'aplikacja' is not defined",
     "output_type": "error",
     "traceback": [
      "\u001b[1;31m---------------------------------------------------------------------------\u001b[0m",
      "\u001b[1;31mNameError\u001b[0m                                 Traceback (most recent call last)",
      "\u001b[1;32m<ipython-input-1-42fa74dd3f42>\u001b[0m in \u001b[0;36m<module>\u001b[1;34m\u001b[0m\n\u001b[1;32m----> 1\u001b[1;33m \u001b[0maplikacja\u001b[0m \u001b[1;33m(\u001b[0m\u001b[1;33m)\u001b[0m\u001b[1;33m\u001b[0m\u001b[1;33m\u001b[0m\u001b[0m\n\u001b[0m",
      "\u001b[1;31mNameError\u001b[0m: name 'aplikacja' is not defined"
     ]
    }
   ],
   "source": [
    "aplikacja ()"
   ]
  },
  {
   "cell_type": "code",
   "execution_count": null,
   "metadata": {},
   "outputs": [],
   "source": []
  }
 ],
 "metadata": {
  "kernelspec": {
   "display_name": "Python 3",
   "language": "python",
   "name": "python3"
  },
  "language_info": {
   "codemirror_mode": {
    "name": "ipython",
    "version": 3
   },
   "file_extension": ".py",
   "mimetype": "text/x-python",
   "name": "python",
   "nbconvert_exporter": "python",
   "pygments_lexer": "ipython3",
   "version": "3.7.6"
  }
 },
 "nbformat": 4,
 "nbformat_minor": 4
}
